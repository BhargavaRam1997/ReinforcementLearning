{
 "cells": [
  {
   "cell_type": "code",
   "execution_count": 1,
   "metadata": {},
   "outputs": [],
   "source": [
    "import tensorflow as tf\n",
    "import numpy as np\n",
    "import matplotlib.pyplot as plt\n",
    "import random\n",
    "import gym\n",
    "\n",
    "from statistics import median, mean\n",
    "from collections import Counter"
   ]
  },
  {
   "cell_type": "code",
   "execution_count": 2,
   "metadata": {},
   "outputs": [],
   "source": [
    "env = gym.make('CartPole-v0')"
   ]
  },
  {
   "cell_type": "code",
   "execution_count": 3,
   "metadata": {},
   "outputs": [
    {
     "name": "stderr",
     "output_type": "stream",
     "text": [
      "/Library/Frameworks/Python.framework/Versions/3.7/lib/python3.7/site-packages/gym/logger.py:30: UserWarning: \u001b[33mWARN: You are calling 'step()' even though this environment has already returned done = True. You should always call 'reset()' once you receive 'done = True' -- any further steps are undefined behavior.\u001b[0m\n",
      "  warnings.warn(colorize('%s: %s'%('WARN', msg % args), 'yellow'))\n"
     ]
    }
   ],
   "source": [
    "# Each of these is its own game.\n",
    "for episode in range(5):\n",
    "    env.reset()\n",
    "    # this is each frame, up to 200...but we wont make it that far.\n",
    "    for t in range(400):\n",
    "        # This will display the environment\n",
    "        # Only display if you really want to see it.\n",
    "        # Takes much longer to display it.            \n",
    "        env.render()\n",
    "        \n",
    "        # This will just create a sample action in any environment.\n",
    "        # In this environment, the action can be 0 or 1, which is left or right\n",
    "        action = env.action_space.sample()\n",
    "            \n",
    "        # this executes the environment with an action, \n",
    "        # and returns the observation of the environment, \n",
    "        # the reward, if the env is over, and other info.\n",
    "        observation, reward, done, info = env.step(action)\n",
    "        # OBS: [Position of cart, angle of pole, derivtive of position, derivative of angle].\n",
    "            \n",
    "env.close()"
   ]
  },
  {
   "cell_type": "code",
   "execution_count": 4,
   "metadata": {},
   "outputs": [],
   "source": [
    "initial_games = 10000\n",
    "goal_steps = 500\n",
    "score_requirement = 50"
   ]
  },
  {
   "cell_type": "code",
   "execution_count": 21,
   "metadata": {},
   "outputs": [],
   "source": [
    "def generate_games():\n",
    "    # [OBS, MOVES]\n",
    "    training_data = []\n",
    "    # all scores:\n",
    "    scores = []\n",
    "    # just the scores that met our threshold:\n",
    "    accepted_scores = []\n",
    "    # iterate through however many games we want:\n",
    "    for _ in range(initial_games):\n",
    "        score = 0\n",
    "        # moves specifically from this environment:\n",
    "        game_memory = []\n",
    "        # previous observation that we saw\n",
    "        prev_observation = []\n",
    "        # for each frame in 200\n",
    "        for _ in range(goal_steps):\n",
    "            # choose random action (0 or 1)\n",
    "            action = random.randrange(0,2)\n",
    "            # do it!\n",
    "            observation, reward, done, info = env.step(action)\n",
    "            \n",
    "            # notice that the observation is returned FROM the action\n",
    "            # so we'll store the previous observation here, pairing\n",
    "            # the prev observation to the action we'll take.\n",
    "            # We pair the both the action and observation at time t. \n",
    "            if len(prev_observation) > 0 :\n",
    "                game_memory.append([prev_observation, action])\n",
    "            prev_observation = observation\n",
    "            score+=reward\n",
    "            if done: break\n",
    "\n",
    "        # IF our score is higher than our threshold, we'd like to save\n",
    "        # every move we made\n",
    "        # NOTE the reinforcement methodology here. \n",
    "        # all we're doing is reinforcing the score, we're not trying \n",
    "        # to influence the machine in any way as to HOW that score is \n",
    "        # reached.\n",
    "        if score >= score_requirement:\n",
    "            accepted_scores.append(score)\n",
    "            for data in game_memory:\n",
    "                # convert to one-hot (this is the output layer for our neural network)\n",
    "                if data[1] == 1:\n",
    "                    output = [0, 1]\n",
    "                elif data[1] == 0:\n",
    "                    output = [1, 0]\n",
    "                    \n",
    "                # saving our training data [OBS, One-Hot-Encoded action]\n",
    "                training_data.append([data[0], output])\n",
    "\n",
    "        # reset env to play again\n",
    "        env.reset()\n",
    "        # save overall scores\n",
    "        scores.append(score)\n",
    "    \n",
    "    # just in case you wanted to reference later\n",
    "    training_data_save = np.array(training_data)\n",
    "    np.save('saved.npy',training_data_save)\n",
    "    \n",
    "    # some stats here, to further illustrate the neural network magic!\n",
    "    print('Average accepted score:', mean(accepted_scores))\n",
    "    print('Median score for accepted scores:',median(accepted_scores))\n",
    "    print(Counter(accepted_scores))\n",
    "    \n",
    "    return training_data, Counter(accepted_scores)"
   ]
  },
  {
   "cell_type": "code",
   "execution_count": 22,
   "metadata": {},
   "outputs": [
    {
     "name": "stdout",
     "output_type": "stream",
     "text": [
      "Average accepted score: 62.07297297297297\n",
      "Median score for accepted scores: 58.0\n",
      "Counter({50.0: 38, 52.0: 26, 53.0: 26, 51.0: 20, 54.0: 19, 56.0: 18, 57.0: 16, 65.0: 14, 55.0: 13, 59.0: 13, 58.0: 12, 64.0: 11, 69.0: 9, 61.0: 9, 60.0: 8, 66.0: 8, 72.0: 8, 67.0: 8, 62.0: 8, 70.0: 7, 68.0: 7, 76.0: 7, 63.0: 6, 71.0: 5, 79.0: 5, 82.0: 4, 81.0: 4, 75.0: 3, 84.0: 3, 83.0: 3, 74.0: 3, 89.0: 3, 73.0: 3, 80.0: 3, 77.0: 2, 90.0: 2, 97.0: 2, 86.0: 2, 93.0: 2, 101.0: 1, 126.0: 1, 91.0: 1, 99.0: 1, 88.0: 1, 95.0: 1, 78.0: 1, 94.0: 1, 96.0: 1, 87.0: 1})\n"
     ]
    }
   ],
   "source": [
    "training_data, accepted_scores = generate_games()"
   ]
  },
  {
   "cell_type": "code",
   "execution_count": 7,
   "metadata": {},
   "outputs": [
    {
     "data": {
      "text/plain": [
       "<BarContainer object of 48 artists>"
      ]
     },
     "execution_count": 7,
     "metadata": {},
     "output_type": "execute_result"
    },
    {
     "data": {
      "image/png": "[encoded data removed]",
      "text/plain": [
       "<Figure size 432x288 with 1 Axes>"
      ]
     },
     "metadata": {
      "needs_background": "light"
     },
     "output_type": "display_data"
    }
   ],
   "source": [
    "%matplotlib inline\n",
    "plt.bar(accepted_scores.keys(), accepted_scores.values())"
   ]
  },
  {
   "cell_type": "code",
   "execution_count": 8,
   "metadata": {},
   "outputs": [],
   "source": [
    "# Model.\n",
    "model = tf.keras.Sequential([\n",
    "    tf.keras.layers.Dense(128, input_shape=[1, 4], activation=tf.nn.relu),\n",
    "    tf.keras.layers.Dense(256, activation=tf.nn.relu),\n",
    "    tf.keras.layers.Dense(128, activation=tf.nn.relu),\n",
    "    tf.keras.layers.Dense(2, activation=tf.nn.softmax)\n",
    "])"
   ]
  },
  {
   "cell_type": "code",
   "execution_count": 9,
   "metadata": {},
   "outputs": [
    {
     "name": "stdout",
     "output_type": "stream",
     "text": [
      "Model: \"sequential\"\n",
      "_________________________________________________________________\n",
      "Layer (type)                 Output Shape              Param #   \n",
      "=================================================================\n",
      "dense (Dense)                (None, 1, 128)            640       \n",
      "_________________________________________________________________\n",
      "dense_1 (Dense)              (None, 1, 256)            33024     \n",
      "_________________________________________________________________\n",
      "dense_2 (Dense)              (None, 1, 128)            32896     \n",
      "_________________________________________________________________\n",
      "dense_3 (Dense)              (None, 1, 2)              258       \n",
      "=================================================================\n",
      "Total params: 66,818\n",
      "Trainable params: 66,818\n",
      "Non-trainable params: 0\n",
      "_________________________________________________________________\n"
     ]
    }
   ],
   "source": [
    "model.summary()"
   ]
  },
  {
   "cell_type": "code",
   "execution_count": 10,
   "metadata": {},
   "outputs": [],
   "source": [
    "X = tf.convert_to_tensor([tf.expand_dims(d[0], 0) for d in training_data], dtype=tf.float32)\n",
    "y = tf.convert_to_tensor([i[1] for i in training_data], dtype=tf.float32)"
   ]
  },
  {
   "cell_type": "code",
   "execution_count": 11,
   "metadata": {},
   "outputs": [],
   "source": [
    "X = X[:20000]\n",
    "y = y[:20000]"
   ]
  },
  {
   "cell_type": "code",
   "execution_count": 12,
   "metadata": {},
   "outputs": [],
   "source": [
    "train_ds = tf.data.Dataset.from_tensor_slices((X, y)).batch(1)"
   ]
  },
  {
   "cell_type": "code",
   "execution_count": 20,
   "metadata": {},
   "outputs": [
    {
     "data": {
      "text/plain": [
       "<tf.Tensor: shape=(1, 4), dtype=float32, numpy=\n",
       "array([[ 0.03783184,  0.15936837, -0.04896386, -0.34330508]],\n",
       "      dtype=float32)>"
      ]
     },
     "execution_count": 20,
     "metadata": {},
     "output_type": "execute_result"
    }
   ],
   "source": [
    "feature, target = next(iter(train_ds))\n",
    "feature[0]"
   ]
  },
  {
   "cell_type": "code",
   "execution_count": 14,
   "metadata": {},
   "outputs": [],
   "source": [
    "optimizer = tf.keras.optimizers.Adam(1e-3)\n",
    "loss = tf.keras.losses.CategoricalCrossentropy(from_logits=True)"
   ]
  },
  {
   "cell_type": "code",
   "execution_count": 15,
   "metadata": {},
   "outputs": [],
   "source": [
    "model.compile(optimizer=optimizer, loss=loss, metrics=['accuracy'])"
   ]
  },
  {
   "cell_type": "code",
   "execution_count": 16,
   "metadata": {},
   "outputs": [
    {
     "name": "stdout",
     "output_type": "stream",
     "text": [
      "[[[0.48698846 0.5130115 ]]]\n"
     ]
    }
   ],
   "source": [
    "print(model(tf.expand_dims(feature[0], 0), training=True).numpy())"
   ]
  },
  {
   "cell_type": "code",
   "execution_count": 17,
   "metadata": {},
   "outputs": [
    {
     "name": "stdout",
     "output_type": "stream",
     "text": [
      "Train for 500 steps\n",
      "Epoch 1/5\n",
      "500/500 [==============================] - 1s 2ms/step - loss: 0.6716 - accuracy: 0.6000\n",
      "Epoch 2/5\n",
      "500/500 [==============================] - 1s 1ms/step - loss: 0.6887 - accuracy: 0.5760\n",
      "Epoch 3/5\n",
      "500/500 [==============================] - 1s 1ms/step - loss: 0.6816 - accuracy: 0.5820\n",
      "Epoch 4/5\n",
      "500/500 [==============================] - 1s 1ms/step - loss: 0.6742 - accuracy: 0.5700\n",
      "Epoch 5/5\n",
      "500/500 [==============================] - 1s 1ms/step - loss: 0.6644 - accuracy: 0.6380\n"
     ]
    },
    {
     "data": {
      "text/plain": [
       "<tensorflow.python.keras.callbacks.History at 0x1369d76d0>"
      ]
     },
     "execution_count": 17,
     "metadata": {},
     "output_type": "execute_result"
    }
   ],
   "source": [
    "model.fit(train_ds, epochs=5, steps_per_epoch=500)"
   ]
  },
  {
   "cell_type": "code",
   "execution_count": 18,
   "metadata": {},
   "outputs": [
    {
     "data": {
      "text/plain": [
       "array([[[0.8965654 , 0.10343464]]], dtype=float32)"
      ]
     },
     "execution_count": 18,
     "metadata": {},
     "output_type": "execute_result"
    }
   ],
   "source": [
    "#model(tf.expand_dims(feature[0], 0))\n",
    "model.predict(tf.expand_dims(feature[0], 0))"
   ]
  },
  {
   "cell_type": "code",
   "execution_count": 165,
   "metadata": {},
   "outputs": [
    {
     "data": {
      "text/plain": [
       "<tf.Tensor: shape=(1, 1, 4), dtype=float32, numpy=\n",
       "array([[[ 0.0208274 ,  0.22764194,  0.02892191, -0.2985553 ]]],\n",
       "      dtype=float32)>"
      ]
     },
     "execution_count": 165,
     "metadata": {},
     "output_type": "execute_result"
    }
   ],
   "source": [
    "env.reset()\n",
    "obs, reward, done, _ = env.step(env.action_space.sample())\n",
    "tf.cast(tf.reshape(obs, [1, 1, -1]), tf.float32)"
   ]
  },
  {
   "cell_type": "code",
   "execution_count": 19,
   "metadata": {},
   "outputs": [],
   "source": [
    "for game in range(10):\n",
    "    score = 0\n",
    "    prev_obs = []\n",
    "    env.reset()\n",
    "    for _ in range(500):\n",
    "        env.render()\n",
    "        # Since we don't have a previous observation we have no choice\n",
    "        # but to intially make a random action.\n",
    "        if len(prev_obs) == 0:\n",
    "            action = random.randrange(0, 2)\n",
    "        else:\n",
    "            prepared_obs = tf.cast(tf.reshape(prev_obs, [1, 1, -1]), tf.float32)\n",
    "            # Note: output is onehot encoded vector [0.43, 0.57]. Hence 'Right'.\n",
    "            action = np.argmax(model(prepared_obs))\n",
    "        # Get observation, rewards etc... from the next state with respect to the action\n",
    "        # our model has predicted.\n",
    "        new_observation, reward, done, info = env.step(action)\n",
    "        prev_obs = new_observation\n",
    "        score += reward\n",
    "        \n",
    "        if done: break\n",
    "    \n",
    "env.close()"
   ]
  }
 ],
 "metadata": {
  "kernelspec": {
   "display_name": "Python 3",
   "language": "python",
   "name": "python3"
  },
  "language_info": {
   "codemirror_mode": {
    "name": "ipython",
    "version": 3
   },
   "file_extension": ".py",
   "mimetype": "text/x-python",
   "name": "python",
   "nbconvert_exporter": "python",
   "pygments_lexer": "ipython3",
   "version": "3.7.7"
  }
 },
 "nbformat": 4,
 "nbformat_minor": 2
}
